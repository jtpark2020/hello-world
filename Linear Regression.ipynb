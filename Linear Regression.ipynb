{
 "cells": [
  {
   "cell_type": "markdown",
   "metadata": {},
   "source": [
    "# Linear Regression\n",
    "+ Simple 1-layer neural network with SGD optimization for linear regression.\n",
    "+ Predict house price with information on number of rooms and age.\n",
    "+ Data: 7 year old house with 3 bedrooms costs 50 thousand dollars, 5 year old house with 5 bedrooms costs 100 thousand dollars.\n",
    "+ Problem: How much would 5 year old house with 4 bedrooms be ?\n",
    "\n"
   ]
  },
  {
   "cell_type": "code",
   "execution_count": null,
   "metadata": {},
   "outputs": [],
   "source": [
    "import numpy as np\n",
    "import random\n",
    "\n",
    "eta = 0.05\n",
    "epoch = 700"
   ]
  },
  {
   "cell_type": "code",
   "execution_count": null,
   "metadata": {},
   "outputs": [],
   "source": [
    "class neuralnetwork:\n",
    "    # neural network model\n",
    "    \n",
    "    def __init__(self, x, w, y):\n",
    "        self.inputs  = x\n",
    "        self.weights = w               \n",
    "        self.target  = y\n",
    "        self.output  = np.zeros(self.target.shape)\n",
    "\n",
    "    def forwardproc(self):\n",
    "        # forward processing of inputs and weights\n",
    "        self.output = np.dot(self.weights, self.inputs.T)\n",
    "\n",
    "    def backprop(self):\n",
    "        # backward processing of appling the chain rule to find derivative of the mean square error function with respect to weights\n",
    "        dw = (self.output - self.target) * self.inputs\n",
    "\n",
    "        # update the weights with the derivative of the loss function\n",
    "        self.weights -= eta * dw\n",
    "\n",
    "    def predict(self, x):\n",
    "        # predict the output for a given input x\n",
    "        return (np.dot(self.weights, x.T))\n",
    "        \n",
    "    def calculaterror(self):\n",
    "        # calculate error\n",
    "        error = self.target - self.output\n",
    "        print(\"Output: \", self.output)\n",
    "#        print(\"weight1: \", self.weights[0,0])\n",
    "        return str(np.mean(np.abs(error)))"
   ]
  },
  {
   "cell_type": "code",
   "execution_count": null,
   "metadata": {},
   "outputs": [],
   "source": [
    "if __name__ == \"__main__\":\n",
    "\n",
    "    # data normalization on number of rooms and age of the house\n",
    "    inputdata = [[.3, .7],\n",
    "                        [.5, .5]]\n",
    "    weights = np.random.rand(1, 2)  \n",
    "    targetvalue = [[50],\n",
    "                           [100]]\n",
    "  \n",
    "    # training \n",
    "    for i in range(epoch):\n",
    "\n",
    "        j = random.randint(0, len(inputdata) - 1)\n",
    "        x = np.array([inputdata[j]])\n",
    "        print(x)\n",
    "        t = np.array([targetvalue[j]])\n",
    "        print(t)\n",
    "        if i == 0: w = weights\n",
    "        else: w = nn.weights          \n",
    "        print(\"Adjusted Weights 1:\", w)\n",
    "      \n",
    "        nn = neuralnetwork(x, w, t)    \n",
    "\n",
    "        for i in range(300):\n",
    "            nn.forwardproc()\n",
    "            nn.backprop()\n",
    "#            if (i % 50) == 0:\n",
    "#                print(\"Error: \", nn.calculaterror())\n",
    "        \n",
    "        print(\"Output:\", nn.output)\n",
    "        print(\"Adjusted Weights 2:\", nn.weights)\n",
    "        print(\"\\n\")\n",
    "\n",
    "    # verify the output with the adjusted weights\n",
    "    x1 = np.array([[0.3, 0.7]])\n",
    "    print (\"Output for the input data [.3, 0.7]:\", nn.predict(x1))\n",
    "    x2 = np.array([[0.5, 0.5]])\n",
    "    print (\"Output for the input data [.5, 0.5]:\", nn.predict(x2))\n",
    "    \n",
    "    # predicting and testing the output for a given input data\n",
    "    x_prediction = np.array([[0.4, 0.5]])\n",
    "    predicted_output = nn.predict(x_prediction)\n",
    "    print(\"Predicted data based on trained weights: \")\n",
    "    print(\"Input (scaled): \", x_prediction)\n",
    "    print(\"Output: \", predicted_output)"
   ]
  },
  {
   "cell_type": "code",
   "execution_count": null,
   "metadata": {},
   "outputs": [],
   "source": []
  }
 ],
 "metadata": {
  "kernelspec": {
   "display_name": "Python 3",
   "language": "python",
   "name": "python3"
  },
  "language_info": {
   "codemirror_mode": {
    "name": "ipython",
    "version": 3
   },
   "file_extension": ".py",
   "mimetype": "text/x-python",
   "name": "python",
   "nbconvert_exporter": "python",
   "pygments_lexer": "ipython3",
   "version": "3.6.7"
  }
 },
 "nbformat": 4,
 "nbformat_minor": 2
}
